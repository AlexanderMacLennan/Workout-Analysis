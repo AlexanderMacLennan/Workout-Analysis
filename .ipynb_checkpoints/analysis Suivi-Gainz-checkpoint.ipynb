{
 "cells": [
  {
   "cell_type": "markdown",
   "id": "61b7f971-2311-4aac-aacb-9424edf32fac",
   "metadata": {},
   "source": [
    "The aim of this notebook is to analysis the content of the file *suivi gainz*. To provide a better understanding and extract useful insights from the data collected in the most automated way as possible. There are for the moment 2 main topics to analysis and extract informations from in the file:\n",
    "1. Evolution of weights and repetitions\n",
    "2. Synthesis of comments"
   ]
  },
  {
   "cell_type": "markdown",
   "id": "e7cc88f5-e17f-4baf-b4f6-c6f707abc8d5",
   "metadata": {},
   "source": [
    "# Evolution of weights and repetitions"
   ]
  },
  {
   "cell_type": "markdown",
   "id": "810a8006-3456-4468-b697-666ead2fa846",
   "metadata": {},
   "source": [
    "For each workout tab (ex: *pull* tab). We want to:\n",
    "1. **Follow the evolution of weights, repetitions and executions** (via the comments)\n",
    "2. **Provide insights on what muscles have been trained** based on different time period. (ex: last week how many time did I train biceps? Over the last 6 months how many sets have I done on traps? etc)\n",
    "3. **Provide insights on how muscles have been trained**. (ex: I know I did X sets of X exercise on a muscle. How did the training go? Were there exercises that also impacted this muscle indirectly?)"
   ]
  },
  {
   "cell_type": "code",
   "execution_count": null,
   "id": "c58bb268-528c-4398-8422-fcdb478d949c",
   "metadata": {},
   "outputs": [],
   "source": [
    "import gdown\n",
    "import pandas as pd\n",
    "import matplotlib.pyplot as plt"
   ]
  },
  {
   "cell_type": "code",
   "execution_count": null,
   "id": "632fbd9a-393a-4a83-9538-42042b3205cc",
   "metadata": {},
   "outputs": [],
   "source": [
    "# Charger le fichier Excel\n",
    "file_path = '~/Documents/Dev Projects/Workout Analysis/suivi gainz (1).xlsx'\n",
    "xls = pd.ExcelFile(file_path)\n",
    "\n",
    "# Charger la feuille 'pull prog 37-41'\n",
    "pull_prog_data = pd.read_excel(xls, sheet_name='pull prog 37-41')\n",
    "\n",
    "# Nettoyer les colonnes\n",
    "pull_prog_data_cleaned = pull_prog_data.rename(columns={\n",
    "    'Unnamed: 0': 'Exercise',\n",
    "    'Unnamed: 1': 'Series',\n",
    "    'week 1': 'Week 1 Weight',\n",
    "    'Unnamed: 3': 'Week 1 Reps',\n",
    "    'Unnamed: 4': 'Week 1 Comments',\n",
    "    'week 2': 'Week 2 Weight',\n",
    "    'Unnamed: 6': 'Week 2 Reps',\n",
    "    'Unnamed: 7': 'Week 2 Comments',\n",
    "    'week 2.1': 'Week 3 Weight',\n",
    "    'Unnamed: 9': 'Week 3 Reps',\n",
    "    'Unnamed: 10': 'Week 3 Comments',\n",
    "    'Unnamed: 16': 'Week 4 Comments',\n",
    "    'week 4': 'Week 4 Weight',\n",
    "    'Unnamed: 18': 'Week 4 Reps',\n",
    "    'Unnamed: 19': 'Week 4 Comments',\n",
    "    'week 4.1': 'Week 5 Weight',\n",
    "    'Unnamed: 21': 'Week 5 Reps',\n",
    "    'Unnamed: 22': 'Week 5 Comments',\n",
    "})\n",
    "\n",
    "# Filtrer les lignes avec des valeurs pertinentes\n",
    "pull_prog_data_filtered = pull_prog_data_cleaned.dropna(subset=['Exercise', 'Week 1 Weight', 'Week 1 Reps'])"
   ]
  },
  {
   "cell_type": "code",
   "execution_count": null,
   "id": "4d2a0b5e-45c6-45df-9870-27cd1ebb1aa7",
   "metadata": {},
   "outputs": [],
   "source": [
    "# Fonction pour tracer l'évolution des poids et répétitions\n",
    "def plot_progress(exercise_data, exercise_name):\n",
    "    plt.figure(figsize=(12, 6))\n",
    "    \n",
    "    # Poids par semaine\n",
    "    plt.subplot(1, 2, 1)\n",
    "    weeks = ['Week 1', 'Week 2', 'Week 3', 'Week 4', 'Week 5']\n",
    "    weights = exercise_data[[f'{week} Weight' for week in weeks]].values\n",
    "    plt.plot(weeks, weights, marker='o', label='Weight')\n",
    "    plt.title(f'Évolution des poids - {exercise_name}')\n",
    "    plt.xlabel('Semaines')\n",
    "    plt.ylabel('Poids (kg)')\n",
    "    plt.grid(True)\n",
    "    \n",
    "    # Répétitions par semaine\n",
    "    plt.subplot(1, 2, 2)\n",
    "    reps = exercise_data[[f'{week} Reps' for week in weeks]].values[0]\n",
    "    plt.plot(weeks, reps, marker='o', color='orange', label='Reps')\n",
    "    plt.title(f'Évolution des répétitions - {exercise_name}')\n",
    "    plt.xlabel('Semaines')\n",
    "    plt.ylabel('Répétitions')\n",
    "    plt.grid(True)\n",
    "    \n",
    "    plt.tight_layout()\n",
    "    plt.show()"
   ]
  },
  {
   "cell_type": "code",
   "execution_count": null,
   "id": "66d91047-1970-4662-ae26-2b9f8f014e41",
   "metadata": {},
   "outputs": [],
   "source": [
    "# Filtrer les données pour un exercice spécifique\n",
    "exercise_name = 'biceps cable'  # Remplacer par le nom de l'exercice que tu veux visualiser\n",
    "exercise_data = pull_prog_data_filtered[pull_prog_data_filtered['Exercise'] == exercise_name]\n",
    "\n",
    "# Tracer l'évolution pour l'exercice sélectionné\n",
    "#plot_progress(exercise_data, exercise_name)"
   ]
  },
  {
   "cell_type": "code",
   "execution_count": null,
   "id": "c40349f6-78e2-4ae3-80c9-94ea5070675f",
   "metadata": {},
   "outputs": [],
   "source": [
    "exercise_data"
   ]
  },
  {
   "cell_type": "code",
   "execution_count": null,
   "id": "94620fc7-cfd8-4c9c-a585-cc0e5e5099aa",
   "metadata": {},
   "outputs": [],
   "source": [
    "pull_prog_data_filtered['Exercise'] == exercise_name"
   ]
  }
 ],
 "metadata": {
  "kernelspec": {
   "display_name": "Python 3 (ipykernel)",
   "language": "python",
   "name": "python3"
  },
  "language_info": {
   "codemirror_mode": {
    "name": "ipython",
    "version": 3
   },
   "file_extension": ".py",
   "mimetype": "text/x-python",
   "name": "python",
   "nbconvert_exporter": "python",
   "pygments_lexer": "ipython3",
   "version": "3.12.6"
  }
 },
 "nbformat": 4,
 "nbformat_minor": 5
}
