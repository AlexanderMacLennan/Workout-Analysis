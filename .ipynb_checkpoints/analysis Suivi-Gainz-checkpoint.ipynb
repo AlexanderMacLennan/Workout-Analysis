{
 "cells": [
  {
   "cell_type": "markdown",
   "id": "61b7f971-2311-4aac-aacb-9424edf32fac",
   "metadata": {},
   "source": [
    "The aim of this notebook is to analysis the content of the file *suivi gainz*. To provide a better understanding and extract useful insights from the data collected in the most automated way as possible. There are for the moment 2 main topics to analysis and extract informations from in the file:\n",
    "1. Evolution of weights and repetitions\n",
    "2. Synthesis of comments"
   ]
  },
  {
   "cell_type": "markdown",
   "id": "e7cc88f5-e17f-4baf-b4f6-c6f707abc8d5",
   "metadata": {},
   "source": [
    "# Evolution of weights and repetitions"
   ]
  },
  {
   "cell_type": "markdown",
   "id": "810a8006-3456-4468-b697-666ead2fa846",
   "metadata": {},
   "source": [
    "For each workout tab (ex: *pull* tab). We want to:\n",
    "1. **Follow the evolution of weights, repetitions and executions** (via the comments)\n",
    "2. **Provide insights on what muscles have been trained** based on different time period. (ex: last week how many time did I train biceps? Over the last 6 months how many sets have I done on traps? etc)\n",
    "3. **Provide insights on how muscles have been trained**. (ex: I know I did X sets of X exercise on a muscle. How did the training go? Were there exercises that also impacted this muscle indirectly?)"
   ]
  },
  {
   "cell_type": "code",
   "execution_count": null,
   "id": "c58bb268-528c-4398-8422-fcdb478d949c",
   "metadata": {},
   "outputs": [],
   "source": [
    "import gdown\n",
    "import pandas as pd\n",
    "import matplotlib.pyplot as plt\n",
    "import plotly.express as px\n",
    "import plotly.io as pio\n",
    "import plotly.graph_objects as go"
   ]
  },
  {
   "cell_type": "code",
   "execution_count": null,
   "id": "9dbc36a6-97f6-4a15-8945-e137f936bf9f",
   "metadata": {},
   "outputs": [],
   "source": [
    "# Charger le fichier Excel\n",
    "file_path = '~/Documents/Dev Projects/Workout Analysis/data training/suivi gainz (1).xlsx'\n",
    "xls = pd.ExcelFile(file_path)\n",
    "\n",
    "# Charger la feuille 'pull prog 37-41'\n",
    "pull_prog_data = pd.read_excel(xls, sheet_name='pull prog 37-41')"
   ]
  },
  {
   "cell_type": "code",
   "execution_count": null,
   "id": "10fb68c0-40f8-4901-956c-6ccad2044f0b",
   "metadata": {},
   "outputs": [],
   "source": [
    "def rename_columns_by_week(df):\n",
    "    # Start renaming from the 3rd column\n",
    "    for i in range(2, df.shape[1], 3): #Skip the 2 first columns and work by groups of 3\n",
    "        # Use the name of the first column in the group as the week indicator \n",
    "        week_indicator = pull_prog_data.columns[i]\n",
    "        \n",
    "        pull_prog_data.rename(columns={\n",
    "                'Unnamed: 0': 'Exercise',\n",
    "                'Unnamed: 1': 'Series',\n",
    "                pull_prog_data.columns[i+2]: f'{week_indicator}_{pull_prog_data.iloc[0, i+2]}',\n",
    "                pull_prog_data.columns[i+1]: f'{week_indicator}_{pull_prog_data.iloc[0, i+1]}',\n",
    "                pull_prog_data.columns[i]: f'{week_indicator}_{pull_prog_data.iloc[0, i]}'\n",
    "            }, inplace=True)\n",
    "    \n",
    "    # Drop the first row if it's no longer needed\n",
    "    df = df.drop(index=0).reset_index(drop=True)\n",
    "    \n",
    "    # Add exercise name for each series \n",
    "    df['Exercise'] = df['Exercise'].ffill()\n",
    "\n",
    "    # Gestion des dates à prévoir plus tard\n",
    "    df = df.drop([0, 1])\n",
    "    # Gestion des séances manquées\n",
    "    df = df.fillna(0)\n",
    "\n",
    "    return df"
   ]
  },
  {
   "cell_type": "code",
   "execution_count": null,
   "id": "57b2e89d-61f6-4de1-ad6b-8f27c1a817cb",
   "metadata": {},
   "outputs": [],
   "source": [
    "new_df = rename_columns_by_week(pull_prog_data)\n",
    "df = new_df"
   ]
  },
  {
   "cell_type": "code",
   "execution_count": null,
   "id": "3cde436e-2781-4b7d-93b9-84a36996c90d",
   "metadata": {},
   "outputs": [],
   "source": [
    "series_col"
   ]
  },
  {
   "cell_type": "code",
   "execution_count": null,
   "id": "cc19f7c5-0d9e-45c4-9519-7dea2e070dcc",
   "metadata": {},
   "outputs": [],
   "source": []
  },
  {
   "cell_type": "code",
   "execution_count": null,
   "id": "7fa59db7-c894-4bf6-8aac-2e537ea0decc",
   "metadata": {},
   "outputs": [],
   "source": []
  },
  {
   "cell_type": "code",
   "execution_count": null,
   "id": "8321baec-f622-47c4-a37c-3c9533dceb47",
   "metadata": {},
   "outputs": [],
   "source": [
    "# Identify weight and reps columns\n",
    "weight_cols = [col for col in df.columns if '_weight' in col]\n",
    "reps_cols = [col for col in df.columns if '_reps' in col]\n",
    "series_col = [col for col in df.columns if 'Series' in col]\n",
    "weeks = [col.split('_')[0] for col in weight_cols]  # Extract week names\n",
    "\n",
    "# Convert DataFrame to long format\n",
    "df_long = pd.melt(df, id_vars=['Exercise'], value_vars=weight_cols + reps_cols + series_col,\n",
    "                  var_name='Week_Metric', value_name='Value')\n"
   ]
  },
  {
   "cell_type": "code",
   "execution_count": null,
   "id": "78b43c3f-97ca-4b15-820b-48973ede3a0a",
   "metadata": {},
   "outputs": [],
   "source": [
    "df_long"
   ]
  },
  {
   "cell_type": "code",
   "execution_count": null,
   "id": "38f997a7-3308-4ca1-9c15-d417e94393eb",
   "metadata": {},
   "outputs": [],
   "source": [
    "# Filter weight and reps data and add repetition count to weight data for marker sizing\n",
    "weight_data = df_long[df_long['Metric'] == 'weight'].copy()\n",
    "reps_data = df_long[df_long['Metric'] == 'reps'].copy()\n",
    "serie_data = df_long[df_long['Metric'] == 'Series'].copy()\n",
    "\n",
    "weight_data['Reps'] = reps_data['Value'].values  # Add repetition count for each point"
   ]
  },
  {
   "cell_type": "code",
   "execution_count": null,
   "id": "26c341cd-c92b-4c0a-8a30-f402553e4dc2",
   "metadata": {},
   "outputs": [],
   "source": [
    "weight_data"
   ]
  },
  {
   "cell_type": "code",
   "execution_count": null,
   "id": "4e16ee00-da12-42c1-9e17-6986a262c25e",
   "metadata": {},
   "outputs": [],
   "source": [
    "data = weight_data\n",
    "\n",
    "data['Series_ID'] = data.index\n",
    "data['Week'] = pd.Categorical(data['Week'], ordered=True)  # Ensure week order is respected\n",
    "# Ensure that 'Reps' is treated as numeric and handle any missing or non-numeric values as 0\n",
    "data['Reps'] = pd.to_numeric(data['Reps'], errors='coerce').fillna(0)"
   ]
  }
 ],
 "metadata": {
  "kernelspec": {
   "display_name": "Python 3 (ipykernel)",
   "language": "python",
   "name": "python3"
  },
  "language_info": {
   "codemirror_mode": {
    "name": "ipython",
    "version": 3
   },
   "file_extension": ".py",
   "mimetype": "text/x-python",
   "name": "python",
   "nbconvert_exporter": "python",
   "pygments_lexer": "ipython3",
   "version": "3.12.6"
  }
 },
 "nbformat": 4,
 "nbformat_minor": 5
}
