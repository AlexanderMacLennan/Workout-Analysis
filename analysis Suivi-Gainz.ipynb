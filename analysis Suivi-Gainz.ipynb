{
 "cells": [
  {
   "cell_type": "markdown",
   "id": "61b7f971-2311-4aac-aacb-9424edf32fac",
   "metadata": {},
   "source": [
    "The aim of this notebook is to analysis the content of the file *suivi gainz*. To provide a better understanding and extract useful insights from the data collected in the most automated way as possible. There are for the moment 2 main topics to analysis and extract informations from in the file:\n",
    "1. Evolution of weights and repetitions\n",
    "2. Synthesis of comments"
   ]
  },
  {
   "cell_type": "markdown",
   "id": "e7cc88f5-e17f-4baf-b4f6-c6f707abc8d5",
   "metadata": {},
   "source": [
    "# Evolution of weights and repetitions"
   ]
  },
  {
   "cell_type": "markdown",
   "id": "810a8006-3456-4468-b697-666ead2fa846",
   "metadata": {},
   "source": [
    "For each workout tab (ex: *pull* tab). We want to:\n",
    "1. **Follow the evolution of weights, repetitions and executions** (via the comments)\n",
    "2. **Provide insights on what muscles have been trained** based on different time period. (ex: last week how many time did I train biceps? Over the last 6 months how many sets have I done on traps? etc)\n",
    "3. **Provide insights on how muscles have been trained**. (ex: I know I did X sets of X exercise on a muscle. How did the training go? Were there exercises that also impacted this muscle indirectly?)"
   ]
  },
  {
   "cell_type": "code",
   "execution_count": null,
   "id": "c58bb268-528c-4398-8422-fcdb478d949c",
   "metadata": {},
   "outputs": [],
   "source": [
    "import gdown\n",
    "import pandas as pd\n",
    "import matplotlib.pyplot as plt\n",
    "import plotly.express as px\n",
    "import plotly.io as pio\n",
    "import plotly.graph_objects as go"
   ]
  },
  {
   "cell_type": "code",
   "execution_count": null,
   "id": "9dbc36a6-97f6-4a15-8945-e137f936bf9f",
   "metadata": {},
   "outputs": [],
   "source": [
    "# Charger le fichier Excel\n",
    "file_path = '~/Documents/Dev Projects/Workout Analysis/data training/suivi gainz (1).xlsx'\n",
    "xls = pd.ExcelFile(file_path)\n",
    "\n",
    "# Charger la feuille 'pull prog 37-41'\n",
    "pull_prog_data = pd.read_excel(xls, sheet_name='pull prog 37-41')"
   ]
  },
  {
   "cell_type": "code",
   "execution_count": null,
   "id": "10fb68c0-40f8-4901-956c-6ccad2044f0b",
   "metadata": {},
   "outputs": [],
   "source": [
    "def rename_columns_by_week(df):\n",
    "    # Start renaming from the 3rd column\n",
    "    for i in range(2, df.shape[1], 3): #Skip the 2 first columns and work by groups of 3\n",
    "        # Use the name of the first column in the group as the week indicator \n",
    "        week_indicator = pull_prog_data.columns[i]\n",
    "        \n",
    "        pull_prog_data.rename(columns={\n",
    "                'Unnamed: 0': 'Exercise',\n",
    "                'Unnamed: 1': 'Series',\n",
    "                pull_prog_data.columns[i+2]: f'{week_indicator}_{pull_prog_data.iloc[0, i+2]}',\n",
    "                pull_prog_data.columns[i+1]: f'{week_indicator}_{pull_prog_data.iloc[0, i+1]}',\n",
    "                pull_prog_data.columns[i]: f'{week_indicator}_{pull_prog_data.iloc[0, i]}'\n",
    "            }, inplace=True)\n",
    "    \n",
    "    # Drop the first row if it's no longer needed\n",
    "    df = df.drop(index=0).reset_index(drop=True)\n",
    "    \n",
    "    # Add exercise name for each series \n",
    "    df['Exercise'] = df['Exercise'].ffill()\n",
    "\n",
    "    # Gestion des dates à prévoir plus tard\n",
    "    df = df.drop([0, 1])\n",
    "    # Gestion des séances manquées\n",
    "    df = df.fillna(0)\n",
    "\n",
    "    return df.reset_index(drop=True)"
   ]
  },
  {
   "cell_type": "code",
   "execution_count": null,
   "id": "57b2e89d-61f6-4de1-ad6b-8f27c1a817cb",
   "metadata": {},
   "outputs": [],
   "source": [
    "new_df = rename_columns_by_week(pull_prog_data)"
   ]
  },
  {
   "cell_type": "code",
   "execution_count": null,
   "id": "82abd1d2-c312-4348-808c-3d74966ef5cb",
   "metadata": {},
   "outputs": [],
   "source": [
    "#test = new_df[new_df['Exercise'] == 'Hammer curl']\n",
    "test = new_df[new_df['Exercise'] != 'Pull ups']"
   ]
  },
  {
   "cell_type": "code",
   "execution_count": null,
   "id": "2a7fa644-cfa1-45f8-a4ae-9751034a3f4c",
   "metadata": {},
   "outputs": [],
   "source": [
    "# Préparation des données pour les semaines\n",
    "def prepare_data(data):\n",
    "    # Création d'une liste pour stocker les données transformées\n",
    "    processed_data = []\n",
    "    # Filtrer les colonnes de poids, répétitions, et commentaires pour chaque semaine\n",
    "    weeks = sorted(set(col.split('_')[0] for col in data.columns if 'weight' in col))\n",
    "\n",
    "    for _, row in data.iterrows():\n",
    "        # print(row)\n",
    "        for week in weeks:\n",
    "            weight_col = f\"{week}_weight\"\n",
    "            reps_col = f\"{week}_reps\"\n",
    "            # Vérifier la présence de valeurs pour le poids et les répétitions\n",
    "            if weight_col in data.columns and reps_col in data.columns:\n",
    "                processed_data.append({\n",
    "                    'Exercise': row['Exercise'],\n",
    "                    'Series': row['Series'],\n",
    "                    'Week': week,\n",
    "                    'Weight': row[weight_col],\n",
    "                    'Reps': row[reps_col]\n",
    "                })\n",
    "    \n",
    "    return pd.DataFrame(processed_data)"
   ]
  },
  {
   "cell_type": "code",
   "execution_count": null,
   "id": "e8ee7426-b641-4b1d-9e8c-f8ec79c95c8d",
   "metadata": {},
   "outputs": [],
   "source": [
    "# Convertir le DataFrame\n",
    "conv_test = prepare_data(test)\n",
    "plot_data = conv_test"
   ]
  },
  {
   "cell_type": "code",
   "execution_count": null,
   "id": "a7bb6569-de2f-43e4-9f32-c6a48361230c",
   "metadata": {},
   "outputs": [],
   "source": [
    "plot_data['Reps'].unique()"
   ]
  },
  {
   "cell_type": "code",
   "execution_count": null,
   "id": "dc07dde5-312d-44b0-93d9-3698b3e4d584",
   "metadata": {},
   "outputs": [],
   "source": [
    "fig.data"
   ]
  },
  {
   "cell_type": "code",
   "execution_count": null,
   "id": "9b979d7d-40ac-423f-9230-9b60ff259628",
   "metadata": {},
   "outputs": [],
   "source": [
    "# Créer le graphique interactif avec des lignes pour connecter les points\n",
    "fig = px.line(\n",
    "    plot_data,\n",
    "    x=\"Week\",\n",
    "    y=\"Weight\",\n",
    "    color=\"Series\",\n",
    "    line_shape=\"linear\",\n",
    "    facet_row=\"Exercise\",\n",
    "    title=\"Évolution du poids en fonction des semaines et des répétitions\",\n",
    "    labels={\"Weight\": \"Poids\", \"Week\": \"Semaine\", \"Reps\": \"Répétitions\", \"Series\": \"Série\"},\n",
    ")\n",
    "\n",
    "# Ajouter les points avec une taille dépendante des répétitions et activer la légende\n",
    "fig.update_traces(\n",
    "    mode=\"lines+markers\",\n",
    "    showlegend=True\n",
    ")\n",
    "fig.update_traces(marker=dict(sizemode='diameter', sizeref=2.*max(plot_data['Reps'])/40, sizemin=4), \n",
    "                  marker_size=plot_data['Reps'])\n",
    "\n",
    "# Créer un menu déroulant pour filtrer par exercice\n",
    "exercise_options = plot_data['Exercise'].unique()\n",
    "\n",
    "fig.update_layout(\n",
    "    autosize=True,\n",
    "    margin=dict(l=50, r=50, t=50, b=50),\n",
    "    height=800,\n",
    "    font=dict(size=10),\n",
    "    updatemenus=[{\n",
    "        \"buttons\": [\n",
    "            {\n",
    "                \"label\": \"Tous les exercices\",\n",
    "                \"method\": \"update\",\n",
    "                \"args\": [\n",
    "                    {\"visible\": [True] * len(fig.data)},\n",
    "                    {\"title\": \"Tous les exercices\"}\n",
    "                ]\n",
    "            }\n",
    "        ] + [\n",
    "            {\n",
    "                \"label\": exercise,\n",
    "                \"method\": \"update\",\n",
    "                \"args\": [\n",
    "                    {\n",
    "                        # Afficher uniquement les séries et les facettes associées à l'exercice sélectionné\n",
    "                        \"visible\": [\n",
    "                            (exercise in trace.hovertemplate) for trace in fig.data\n",
    "                        ]\n",
    "                    },\n",
    "                    {\n",
    "                        \"title\": f\"Exercice : {exercise}\",\n",
    "                        \"annotations\": []  # Remettre à jour les annotations si nécessaire\n",
    "                    }\n",
    "                ]\n",
    "            }\n",
    "            for exercise in exercise_options\n",
    "        ],\n",
    "        \"direction\": \"down\",\n",
    "        \"showactive\": True,\n",
    "    }]\n",
    ")\n",
    "\n",
    "# Mise à jour pour masquer les axes vides\n",
    "for annotation in fig.layout.annotations:\n",
    "    annotation.update(visible=True)\n",
    "\n",
    "fig.show()"
   ]
  }
 ],
 "metadata": {
  "kernelspec": {
   "display_name": "Python 3 (ipykernel)",
   "language": "python",
   "name": "python3"
  },
  "language_info": {
   "codemirror_mode": {
    "name": "ipython",
    "version": 3
   },
   "file_extension": ".py",
   "mimetype": "text/x-python",
   "name": "python",
   "nbconvert_exporter": "python",
   "pygments_lexer": "ipython3",
   "version": "3.12.6"
  }
 },
 "nbformat": 4,
 "nbformat_minor": 5
}
